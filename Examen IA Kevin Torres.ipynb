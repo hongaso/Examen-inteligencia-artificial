{
 "cells": [
  {
   "cell_type": "code",
   "execution_count": 1,
   "id": "fb1edc3f-6f50-4087-a7b4-a86d57e64b30",
   "metadata": {
    "ExecuteTime": {
     "end_time": "2022-03-15T03:08:13.983608Z",
     "start_time": "2022-03-15T03:08:13.117413Z"
    }
   },
   "outputs": [],
   "source": [
    "import pandas as pd"
   ]
  },
  {
   "cell_type": "markdown",
   "id": "ca497ee4-d7ed-4fcf-8df2-b7f0da3e6a58",
   "metadata": {},
   "source": [
    "## Reading files"
   ]
  },
  {
   "cell_type": "code",
   "execution_count": 2,
   "id": "0a389ee7-7fa2-4523-95ea-1f45ae4ac6f8",
   "metadata": {
    "ExecuteTime": {
     "end_time": "2022-03-15T03:08:14.014762Z",
     "start_time": "2022-03-15T03:08:13.997314Z"
    }
   },
   "outputs": [],
   "source": [
    "wh2018 = pd.read_csv('2018_v2.csv')\n",
    "wh2019 = pd.read_csv('2019_v2.csv')"
   ]
  },
  {
   "cell_type": "markdown",
   "id": "72f1cf5f-7cc4-4dfa-9dc8-51105a51d652",
   "metadata": {},
   "source": [
    "Adding extra column to identify year of population"
   ]
  },
  {
   "cell_type": "code",
   "execution_count": 3,
   "id": "ec21e6da-422e-4a8e-8aac-e601e30b89dd",
   "metadata": {
    "ExecuteTime": {
     "end_time": "2022-03-15T03:08:14.171506Z",
     "start_time": "2022-03-15T03:08:14.018758Z"
    }
   },
   "outputs": [],
   "source": [
    "wh2018['year'] = 2018\n",
    "wh2019['year'] = 2019"
   ]
  },
  {
   "cell_type": "markdown",
   "id": "e3fdff02-1732-477b-a78b-f97aea07b013",
   "metadata": {},
   "source": [
    "Union of three files"
   ]
  },
  {
   "cell_type": "code",
   "execution_count": 4,
   "id": "ab6d0ee5-911c-4d6f-8889-058467e7015a",
   "metadata": {
    "ExecuteTime": {
     "end_time": "2022-03-15T03:08:14.295548Z",
     "start_time": "2022-03-15T03:08:14.174504Z"
    }
   },
   "outputs": [],
   "source": [
    "wh = pd.concat([wh2018,wh2019])"
   ]
  },
  {
   "cell_type": "code",
   "execution_count": 5,
   "id": "54d33b78-43e1-4904-92b0-485e8d2abefa",
   "metadata": {
    "ExecuteTime": {
     "end_time": "2022-03-15T03:08:14.450877Z",
     "start_time": "2022-03-15T03:08:14.299547Z"
    }
   },
   "outputs": [
    {
     "data": {
      "text/plain": [
       "Index(['Overall rank', 'Country or region', 'Score', 'GDP per capita',\n",
       "       'Social support', 'Healthy life expectancy',\n",
       "       'Freedom to make life choices', 'Generosity',\n",
       "       'Perceptions of corruption', 'year'],\n",
       "      dtype='object')"
      ]
     },
     "execution_count": 5,
     "metadata": {},
     "output_type": "execute_result"
    }
   ],
   "source": [
    "wh.columns"
   ]
  },
  {
   "cell_type": "markdown",
   "id": "fe6f96ee-b677-442e-b1f7-8d2617200937",
   "metadata": {},
   "source": [
    "## Ejercicios\n",
    "\n",
    "1. Partiendo de Wh, realice un analisis de valores nulos. que porcentaje de valores nulos se encuentran en cada columna por anio. presente el analisis en un dataframe"
   ]
  },
  {
   "cell_type": "markdown",
   "id": "fac6f6e3-8f5a-48bb-9a06-632757c857be",
   "metadata": {},
   "source": [
    "Ejemplo:"
   ]
  },
  {
   "cell_type": "code",
   "execution_count": 6,
   "id": "748a8b4c-85aa-4cff-96a3-61bcf2a8e466",
   "metadata": {
    "ExecuteTime": {
     "end_time": "2022-03-15T03:08:15.955778Z",
     "start_time": "2022-03-15T03:08:15.925797Z"
    }
   },
   "outputs": [
    {
     "data": {
      "text/html": [
       "<div>\n",
       "<style scoped>\n",
       "    .dataframe tbody tr th:only-of-type {\n",
       "        vertical-align: middle;\n",
       "    }\n",
       "\n",
       "    .dataframe tbody tr th {\n",
       "        vertical-align: top;\n",
       "    }\n",
       "\n",
       "    .dataframe thead th {\n",
       "        text-align: right;\n",
       "    }\n",
       "</style>\n",
       "<table border=\"1\" class=\"dataframe\">\n",
       "  <thead>\n",
       "    <tr style=\"text-align: right;\">\n",
       "      <th></th>\n",
       "      <th>year</th>\n",
       "      <th>column</th>\n",
       "      <th>percentage.of.nans</th>\n",
       "    </tr>\n",
       "  </thead>\n",
       "  <tbody>\n",
       "    <tr>\n",
       "      <th>0</th>\n",
       "      <td>2017</td>\n",
       "      <td>Happiness.Rank</td>\n",
       "      <td>0.2</td>\n",
       "    </tr>\n",
       "    <tr>\n",
       "      <th>1</th>\n",
       "      <td>2017</td>\n",
       "      <td>Whisker.low</td>\n",
       "      <td>0.2</td>\n",
       "    </tr>\n",
       "  </tbody>\n",
       "</table>\n",
       "</div>"
      ],
      "text/plain": [
       "   year          column  percentage.of.nans\n",
       "0  2017  Happiness.Rank                 0.2\n",
       "1  2017     Whisker.low                 0.2"
      ]
     },
     "execution_count": 6,
     "metadata": {},
     "output_type": "execute_result"
    }
   ],
   "source": [
    "pd.DataFrame({\n",
    "    \"year\": [2017,2017]\n",
    "    , \"column\" : [\"Happiness.Rank\",\"Whisker.low\"]\n",
    "    , \"percentage.of.nans\" : [0.2,0.2]\n",
    "})"
   ]
  },
  {
   "cell_type": "markdown",
   "id": "ad19d0f9-2980-4411-9166-3760db06212f",
   "metadata": {},
   "source": [
    "### resolucion ejercicio uno"
   ]
  },
  {
   "cell_type": "code",
   "execution_count": 7,
   "id": "e99d9148-31d5-4564-be5e-aef7a61765ef",
   "metadata": {
    "ExecuteTime": {
     "end_time": "2022-03-15T03:08:17.043847Z",
     "start_time": "2022-03-15T03:08:17.024853Z"
    }
   },
   "outputs": [],
   "source": [
    "sumar_nulos = (wh.isnull().sum())"
   ]
  },
  {
   "cell_type": "code",
   "execution_count": 30,
   "id": "c47f05a7",
   "metadata": {
    "ExecuteTime": {
     "end_time": "2022-03-15T03:21:57.309927Z",
     "start_time": "2022-03-15T03:21:57.302588Z"
    }
   },
   "outputs": [
    {
     "data": {
      "text/plain": [
       "Overall rank                     0\n",
       "Country or region                0\n",
       "Score                           19\n",
       "GDP per capita                  12\n",
       "Social support                  16\n",
       "Healthy life expectancy         26\n",
       "Freedom to make life choices    23\n",
       "Generosity                      21\n",
       "Perceptions of corruption       13\n",
       "year                             0\n",
       "dtype: int64"
      ]
     },
     "execution_count": 30,
     "metadata": {},
     "output_type": "execute_result"
    }
   ],
   "source": [
    "sumar_nulos"
   ]
  },
  {
   "cell_type": "code",
   "execution_count": 20,
   "id": "de79b9bc",
   "metadata": {
    "ExecuteTime": {
     "end_time": "2022-03-15T03:13:07.730392Z",
     "start_time": "2022-03-15T03:13:07.644298Z"
    }
   },
   "outputs": [],
   "source": [
    "agrupados_por_anio = wh.groupby(\"year\").count()"
   ]
  },
  {
   "cell_type": "code",
   "execution_count": 29,
   "id": "c1982c30",
   "metadata": {
    "ExecuteTime": {
     "end_time": "2022-03-15T03:21:39.535286Z",
     "start_time": "2022-03-15T03:21:39.505300Z"
    }
   },
   "outputs": [
    {
     "data": {
      "text/html": [
       "<div>\n",
       "<style scoped>\n",
       "    .dataframe tbody tr th:only-of-type {\n",
       "        vertical-align: middle;\n",
       "    }\n",
       "\n",
       "    .dataframe tbody tr th {\n",
       "        vertical-align: top;\n",
       "    }\n",
       "\n",
       "    .dataframe thead th {\n",
       "        text-align: right;\n",
       "    }\n",
       "</style>\n",
       "<table border=\"1\" class=\"dataframe\">\n",
       "  <thead>\n",
       "    <tr style=\"text-align: right;\">\n",
       "      <th></th>\n",
       "      <th>Overall rank</th>\n",
       "      <th>Country or region</th>\n",
       "      <th>Score</th>\n",
       "      <th>GDP per capita</th>\n",
       "      <th>Social support</th>\n",
       "      <th>Healthy life expectancy</th>\n",
       "      <th>Freedom to make life choices</th>\n",
       "      <th>Generosity</th>\n",
       "      <th>Perceptions of corruption</th>\n",
       "    </tr>\n",
       "    <tr>\n",
       "      <th>year</th>\n",
       "      <th></th>\n",
       "      <th></th>\n",
       "      <th></th>\n",
       "      <th></th>\n",
       "      <th></th>\n",
       "      <th></th>\n",
       "      <th></th>\n",
       "      <th></th>\n",
       "      <th></th>\n",
       "    </tr>\n",
       "  </thead>\n",
       "  <tbody>\n",
       "    <tr>\n",
       "      <th>2018</th>\n",
       "      <td>156</td>\n",
       "      <td>156</td>\n",
       "      <td>151</td>\n",
       "      <td>147</td>\n",
       "      <td>141</td>\n",
       "      <td>144</td>\n",
       "      <td>144</td>\n",
       "      <td>139</td>\n",
       "      <td>149</td>\n",
       "    </tr>\n",
       "    <tr>\n",
       "      <th>2019</th>\n",
       "      <td>156</td>\n",
       "      <td>156</td>\n",
       "      <td>142</td>\n",
       "      <td>153</td>\n",
       "      <td>155</td>\n",
       "      <td>142</td>\n",
       "      <td>145</td>\n",
       "      <td>152</td>\n",
       "      <td>150</td>\n",
       "    </tr>\n",
       "  </tbody>\n",
       "</table>\n",
       "</div>"
      ],
      "text/plain": [
       "      Overall rank  Country or region  Score  GDP per capita  Social support  \\\n",
       "year                                                                           \n",
       "2018           156                156    151             147             141   \n",
       "2019           156                156    142             153             155   \n",
       "\n",
       "      Healthy life expectancy  Freedom to make life choices  Generosity  \\\n",
       "year                                                                      \n",
       "2018                      144                           144         139   \n",
       "2019                      142                           145         152   \n",
       "\n",
       "      Perceptions of corruption  \n",
       "year                             \n",
       "2018                        149  \n",
       "2019                        150  "
      ]
     },
     "execution_count": 29,
     "metadata": {},
     "output_type": "execute_result"
    }
   ],
   "source": [
    "agrupados_por_anio"
   ]
  },
  {
   "cell_type": "code",
   "execution_count": 27,
   "id": "95398c7f",
   "metadata": {
    "ExecuteTime": {
     "end_time": "2022-03-15T03:18:42.290611Z",
     "start_time": "2022-03-15T03:18:42.281616Z"
    }
   },
   "outputs": [],
   "source": [
    "list_years = pd.unique(wh[\"year\"])"
   ]
  },
  {
   "cell_type": "code",
   "execution_count": 28,
   "id": "ae974922",
   "metadata": {
    "ExecuteTime": {
     "end_time": "2022-03-15T03:18:51.222264Z",
     "start_time": "2022-03-15T03:18:51.208574Z"
    }
   },
   "outputs": [
    {
     "data": {
      "text/plain": [
       "array([2018, 2019], dtype=int64)"
      ]
     },
     "execution_count": 28,
     "metadata": {},
     "output_type": "execute_result"
    }
   ],
   "source": [
    "list_years"
   ]
  },
  {
   "cell_type": "code",
   "execution_count": 9,
   "id": "e8c57296",
   "metadata": {
    "ExecuteTime": {
     "end_time": "2022-03-15T03:08:18.376130Z",
     "start_time": "2022-03-15T03:08:18.362634Z"
    }
   },
   "outputs": [],
   "source": [
    "listado_de_anios = {2018: {}, 2019:{}}"
   ]
  },
  {
   "cell_type": "code",
   "execution_count": 23,
   "id": "df871380",
   "metadata": {
    "ExecuteTime": {
     "end_time": "2022-03-15T03:13:19.645682Z",
     "start_time": "2022-03-15T03:13:19.603489Z"
    }
   },
   "outputs": [],
   "source": [
    "for pos in wh.columns[1 : -1]:\n",
    "    listado_de_anios[2018][pos] = wh.loc[wh[\"year\"] == 2018][pos].isnull().sum()/agrupados_por_anio[pos][2018]*100\n",
    "    listado_de_anios[2019][pos] = wh.loc[wh[\"year\"] == 2019][pos].isnull().sum()/agrupados_por_anio[pos][2019]*100"
   ]
  },
  {
   "cell_type": "code",
   "execution_count": 24,
   "id": "7ab2201b",
   "metadata": {
    "ExecuteTime": {
     "end_time": "2022-03-15T03:14:14.070962Z",
     "start_time": "2022-03-15T03:14:13.995775Z"
    }
   },
   "outputs": [],
   "source": [
    "porcentajes_nulos = pd.DataFrame(listado_de_anios)"
   ]
  },
  {
   "cell_type": "code",
   "execution_count": 25,
   "id": "378aec92",
   "metadata": {
    "ExecuteTime": {
     "end_time": "2022-03-15T03:14:21.312969Z",
     "start_time": "2022-03-15T03:14:21.291458Z"
    }
   },
   "outputs": [
    {
     "data": {
      "text/html": [
       "<div>\n",
       "<style scoped>\n",
       "    .dataframe tbody tr th:only-of-type {\n",
       "        vertical-align: middle;\n",
       "    }\n",
       "\n",
       "    .dataframe tbody tr th {\n",
       "        vertical-align: top;\n",
       "    }\n",
       "\n",
       "    .dataframe thead th {\n",
       "        text-align: right;\n",
       "    }\n",
       "</style>\n",
       "<table border=\"1\" class=\"dataframe\">\n",
       "  <thead>\n",
       "    <tr style=\"text-align: right;\">\n",
       "      <th></th>\n",
       "      <th>2018</th>\n",
       "      <th>2019</th>\n",
       "    </tr>\n",
       "  </thead>\n",
       "  <tbody>\n",
       "    <tr>\n",
       "      <th>Country or region</th>\n",
       "      <td>0.000000</td>\n",
       "      <td>0.000000</td>\n",
       "    </tr>\n",
       "    <tr>\n",
       "      <th>Score</th>\n",
       "      <td>3.311258</td>\n",
       "      <td>9.859155</td>\n",
       "    </tr>\n",
       "    <tr>\n",
       "      <th>GDP per capita</th>\n",
       "      <td>6.122449</td>\n",
       "      <td>1.960784</td>\n",
       "    </tr>\n",
       "    <tr>\n",
       "      <th>Social support</th>\n",
       "      <td>10.638298</td>\n",
       "      <td>0.645161</td>\n",
       "    </tr>\n",
       "    <tr>\n",
       "      <th>Healthy life expectancy</th>\n",
       "      <td>8.333333</td>\n",
       "      <td>9.859155</td>\n",
       "    </tr>\n",
       "    <tr>\n",
       "      <th>Freedom to make life choices</th>\n",
       "      <td>8.333333</td>\n",
       "      <td>7.586207</td>\n",
       "    </tr>\n",
       "    <tr>\n",
       "      <th>Generosity</th>\n",
       "      <td>12.230216</td>\n",
       "      <td>2.631579</td>\n",
       "    </tr>\n",
       "    <tr>\n",
       "      <th>Perceptions of corruption</th>\n",
       "      <td>4.697987</td>\n",
       "      <td>4.000000</td>\n",
       "    </tr>\n",
       "  </tbody>\n",
       "</table>\n",
       "</div>"
      ],
      "text/plain": [
       "                                   2018      2019\n",
       "Country or region              0.000000  0.000000\n",
       "Score                          3.311258  9.859155\n",
       "GDP per capita                 6.122449  1.960784\n",
       "Social support                10.638298  0.645161\n",
       "Healthy life expectancy        8.333333  9.859155\n",
       "Freedom to make life choices   8.333333  7.586207\n",
       "Generosity                    12.230216  2.631579\n",
       "Perceptions of corruption      4.697987  4.000000"
      ]
     },
     "execution_count": 25,
     "metadata": {},
     "output_type": "execute_result"
    }
   ],
   "source": [
    "porcentajes_nulos"
   ]
  },
  {
   "cell_type": "markdown",
   "id": "76ceb543-1b4f-4a5f-9584-27259f6f4bb7",
   "metadata": {},
   "source": [
    "2. partiendo de Wh, por año muestre un resumen de todas las columnas.\n",
    "\n",
    "nota: aunque solo tenemos tres años, que pasaria si en nuestro dataframe tenemos 20 años? resuelva su ejercicio lo mas dinamico que se pueda\n",
    "\n",
    "### resolucion ejercicio dos"
   ]
  },
  {
   "cell_type": "code",
   "execution_count": 32,
   "id": "a959ae39",
   "metadata": {
    "ExecuteTime": {
     "end_time": "2022-03-15T03:25:09.913709Z",
     "start_time": "2022-03-15T03:25:09.901718Z"
    }
   },
   "outputs": [],
   "source": [
    "datos_agrupados = wh.groupby(\"year\")"
   ]
  },
  {
   "cell_type": "code",
   "execution_count": 34,
   "id": "21367287",
   "metadata": {
    "ExecuteTime": {
     "end_time": "2022-03-15T03:25:42.246184Z",
     "start_time": "2022-03-15T03:25:41.885091Z"
    }
   },
   "outputs": [
    {
     "data": {
      "text/html": [
       "<div>\n",
       "<style scoped>\n",
       "    .dataframe tbody tr th:only-of-type {\n",
       "        vertical-align: middle;\n",
       "    }\n",
       "\n",
       "    .dataframe tbody tr th {\n",
       "        vertical-align: top;\n",
       "    }\n",
       "\n",
       "    .dataframe thead tr th {\n",
       "        text-align: left;\n",
       "    }\n",
       "\n",
       "    .dataframe thead tr:last-of-type th {\n",
       "        text-align: right;\n",
       "    }\n",
       "</style>\n",
       "<table border=\"1\" class=\"dataframe\">\n",
       "  <thead>\n",
       "    <tr>\n",
       "      <th></th>\n",
       "      <th colspan=\"8\" halign=\"left\">Overall rank</th>\n",
       "      <th colspan=\"2\" halign=\"left\">Score</th>\n",
       "      <th>...</th>\n",
       "      <th colspan=\"2\" halign=\"left\">Generosity</th>\n",
       "      <th colspan=\"8\" halign=\"left\">Perceptions of corruption</th>\n",
       "    </tr>\n",
       "    <tr>\n",
       "      <th></th>\n",
       "      <th>count</th>\n",
       "      <th>mean</th>\n",
       "      <th>std</th>\n",
       "      <th>min</th>\n",
       "      <th>25%</th>\n",
       "      <th>50%</th>\n",
       "      <th>75%</th>\n",
       "      <th>max</th>\n",
       "      <th>count</th>\n",
       "      <th>mean</th>\n",
       "      <th>...</th>\n",
       "      <th>75%</th>\n",
       "      <th>max</th>\n",
       "      <th>count</th>\n",
       "      <th>mean</th>\n",
       "      <th>std</th>\n",
       "      <th>min</th>\n",
       "      <th>25%</th>\n",
       "      <th>50%</th>\n",
       "      <th>75%</th>\n",
       "      <th>max</th>\n",
       "    </tr>\n",
       "    <tr>\n",
       "      <th>year</th>\n",
       "      <th></th>\n",
       "      <th></th>\n",
       "      <th></th>\n",
       "      <th></th>\n",
       "      <th></th>\n",
       "      <th></th>\n",
       "      <th></th>\n",
       "      <th></th>\n",
       "      <th></th>\n",
       "      <th></th>\n",
       "      <th></th>\n",
       "      <th></th>\n",
       "      <th></th>\n",
       "      <th></th>\n",
       "      <th></th>\n",
       "      <th></th>\n",
       "      <th></th>\n",
       "      <th></th>\n",
       "      <th></th>\n",
       "      <th></th>\n",
       "      <th></th>\n",
       "    </tr>\n",
       "  </thead>\n",
       "  <tbody>\n",
       "    <tr>\n",
       "      <th>2018</th>\n",
       "      <td>156.0</td>\n",
       "      <td>78.5</td>\n",
       "      <td>45.177428</td>\n",
       "      <td>1.0</td>\n",
       "      <td>39.75</td>\n",
       "      <td>78.5</td>\n",
       "      <td>117.25</td>\n",
       "      <td>156.0</td>\n",
       "      <td>151.0</td>\n",
       "      <td>5.354060</td>\n",
       "      <td>...</td>\n",
       "      <td>0.23400</td>\n",
       "      <td>0.598</td>\n",
       "      <td>149.0</td>\n",
       "      <td>0.112859</td>\n",
       "      <td>0.098108</td>\n",
       "      <td>0.0</td>\n",
       "      <td>0.05000</td>\n",
       "      <td>0.082</td>\n",
       "      <td>0.13800</td>\n",
       "      <td>0.457</td>\n",
       "    </tr>\n",
       "    <tr>\n",
       "      <th>2019</th>\n",
       "      <td>156.0</td>\n",
       "      <td>78.5</td>\n",
       "      <td>45.177428</td>\n",
       "      <td>1.0</td>\n",
       "      <td>39.75</td>\n",
       "      <td>78.5</td>\n",
       "      <td>117.25</td>\n",
       "      <td>156.0</td>\n",
       "      <td>142.0</td>\n",
       "      <td>5.434028</td>\n",
       "      <td>...</td>\n",
       "      <td>0.24825</td>\n",
       "      <td>0.566</td>\n",
       "      <td>150.0</td>\n",
       "      <td>0.109053</td>\n",
       "      <td>0.093279</td>\n",
       "      <td>0.0</td>\n",
       "      <td>0.04775</td>\n",
       "      <td>0.085</td>\n",
       "      <td>0.14025</td>\n",
       "      <td>0.453</td>\n",
       "    </tr>\n",
       "  </tbody>\n",
       "</table>\n",
       "<p>2 rows × 64 columns</p>\n",
       "</div>"
      ],
      "text/plain": [
       "     Overall rank                                                    Score  \\\n",
       "            count  mean        std  min    25%   50%     75%    max  count   \n",
       "year                                                                         \n",
       "2018        156.0  78.5  45.177428  1.0  39.75  78.5  117.25  156.0  151.0   \n",
       "2019        156.0  78.5  45.177428  1.0  39.75  78.5  117.25  156.0  142.0   \n",
       "\n",
       "                ... Generosity        Perceptions of corruption            \\\n",
       "          mean  ...        75%    max                     count      mean   \n",
       "year            ...                                                         \n",
       "2018  5.354060  ...    0.23400  0.598                     149.0  0.112859   \n",
       "2019  5.434028  ...    0.24825  0.566                     150.0  0.109053   \n",
       "\n",
       "                                                     \n",
       "           std  min      25%    50%      75%    max  \n",
       "year                                                 \n",
       "2018  0.098108  0.0  0.05000  0.082  0.13800  0.457  \n",
       "2019  0.093279  0.0  0.04775  0.085  0.14025  0.453  \n",
       "\n",
       "[2 rows x 64 columns]"
      ]
     },
     "execution_count": 34,
     "metadata": {},
     "output_type": "execute_result"
    }
   ],
   "source": [
    "datos_agrupados.describe()"
   ]
  },
  {
   "cell_type": "markdown",
   "id": "fec3987d-17f1-4553-a9c1-db67800b3cdb",
   "metadata": {},
   "source": [
    "3. partiendo de Wh, remplace los valores NaN de las columnas por su mean, el mean debe de ser calculado por año para ser mas exacto\n",
    "\n"
   ]
  },
  {
   "cell_type": "markdown",
   "id": "80b162c5",
   "metadata": {},
   "source": [
    "### resolucion ejercicio tres"
   ]
  },
  {
   "cell_type": "code",
   "execution_count": 36,
   "id": "b6918685",
   "metadata": {
    "ExecuteTime": {
     "end_time": "2022-03-15T03:34:16.816612Z",
     "start_time": "2022-03-15T03:34:16.793959Z"
    }
   },
   "outputs": [],
   "source": [
    "promedio = wh.loc[wh[\"year\"] == wh.fillna] = datos_agrupados.mean()"
   ]
  },
  {
   "cell_type": "code",
   "execution_count": 37,
   "id": "5af26fe7",
   "metadata": {
    "ExecuteTime": {
     "end_time": "2022-03-15T03:34:19.716372Z",
     "start_time": "2022-03-15T03:34:19.689457Z"
    }
   },
   "outputs": [
    {
     "data": {
      "text/html": [
       "<div>\n",
       "<style scoped>\n",
       "    .dataframe tbody tr th:only-of-type {\n",
       "        vertical-align: middle;\n",
       "    }\n",
       "\n",
       "    .dataframe tbody tr th {\n",
       "        vertical-align: top;\n",
       "    }\n",
       "\n",
       "    .dataframe thead th {\n",
       "        text-align: right;\n",
       "    }\n",
       "</style>\n",
       "<table border=\"1\" class=\"dataframe\">\n",
       "  <thead>\n",
       "    <tr style=\"text-align: right;\">\n",
       "      <th></th>\n",
       "      <th>Overall rank</th>\n",
       "      <th>Score</th>\n",
       "      <th>GDP per capita</th>\n",
       "      <th>Social support</th>\n",
       "      <th>Healthy life expectancy</th>\n",
       "      <th>Freedom to make life choices</th>\n",
       "      <th>Generosity</th>\n",
       "      <th>Perceptions of corruption</th>\n",
       "    </tr>\n",
       "    <tr>\n",
       "      <th>year</th>\n",
       "      <th></th>\n",
       "      <th></th>\n",
       "      <th></th>\n",
       "      <th></th>\n",
       "      <th></th>\n",
       "      <th></th>\n",
       "      <th></th>\n",
       "      <th></th>\n",
       "    </tr>\n",
       "  </thead>\n",
       "  <tbody>\n",
       "    <tr>\n",
       "      <th>2018</th>\n",
       "      <td>78.5</td>\n",
       "      <td>5.354060</td>\n",
       "      <td>0.892748</td>\n",
       "      <td>1.205915</td>\n",
       "      <td>0.597576</td>\n",
       "      <td>0.456514</td>\n",
       "      <td>0.181360</td>\n",
       "      <td>0.112859</td>\n",
       "    </tr>\n",
       "    <tr>\n",
       "      <th>2019</th>\n",
       "      <td>78.5</td>\n",
       "      <td>5.434028</td>\n",
       "      <td>0.900758</td>\n",
       "      <td>1.208265</td>\n",
       "      <td>0.722965</td>\n",
       "      <td>0.395441</td>\n",
       "      <td>0.185092</td>\n",
       "      <td>0.109053</td>\n",
       "    </tr>\n",
       "  </tbody>\n",
       "</table>\n",
       "</div>"
      ],
      "text/plain": [
       "      Overall rank     Score  GDP per capita  Social support  \\\n",
       "year                                                           \n",
       "2018          78.5  5.354060        0.892748        1.205915   \n",
       "2019          78.5  5.434028        0.900758        1.208265   \n",
       "\n",
       "      Healthy life expectancy  Freedom to make life choices  Generosity  \\\n",
       "year                                                                      \n",
       "2018                 0.597576                      0.456514    0.181360   \n",
       "2019                 0.722965                      0.395441    0.185092   \n",
       "\n",
       "      Perceptions of corruption  \n",
       "year                             \n",
       "2018                   0.112859  \n",
       "2019                   0.109053  "
      ]
     },
     "execution_count": 37,
     "metadata": {},
     "output_type": "execute_result"
    }
   ],
   "source": [
    "promedio"
   ]
  },
  {
   "cell_type": "markdown",
   "id": "8259629a-e170-4783-8935-b20bbb261d10",
   "metadata": {},
   "source": [
    "4. Partiendo de Wh limpio, para cada metrica por pais, muestra la diferencia del ultimo valor encontrado contra el primero. "
   ]
  },
  {
   "cell_type": "markdown",
   "id": "baee1d13-6755-443f-8961-d53b44a9dca8",
   "metadata": {},
   "source": [
    "Ejemplo:"
   ]
  },
  {
   "cell_type": "code",
   "execution_count": 62,
   "id": "9c197bcd-8603-426c-a4ce-4ddab6e50d49",
   "metadata": {},
   "outputs": [
    {
     "data": {
      "text/html": [
       "<div>\n",
       "<style scoped>\n",
       "    .dataframe tbody tr th:only-of-type {\n",
       "        vertical-align: middle;\n",
       "    }\n",
       "\n",
       "    .dataframe tbody tr th {\n",
       "        vertical-align: top;\n",
       "    }\n",
       "\n",
       "    .dataframe thead th {\n",
       "        text-align: right;\n",
       "    }\n",
       "</style>\n",
       "<table border=\"1\" class=\"dataframe\">\n",
       "  <thead>\n",
       "    <tr style=\"text-align: right;\">\n",
       "      <th></th>\n",
       "      <th>Overall rank</th>\n",
       "      <th>Country or region</th>\n",
       "      <th>Score</th>\n",
       "      <th>GDP per capita</th>\n",
       "      <th>Social support</th>\n",
       "      <th>Healthy life expectancy</th>\n",
       "      <th>Freedom to make life choices</th>\n",
       "      <th>Generosity</th>\n",
       "      <th>Perceptions of corruption</th>\n",
       "      <th>year</th>\n",
       "    </tr>\n",
       "  </thead>\n",
       "  <tbody>\n",
       "    <tr>\n",
       "      <th>4</th>\n",
       "      <td>5</td>\n",
       "      <td>Switzerland</td>\n",
       "      <td>7.487</td>\n",
       "      <td>1.420</td>\n",
       "      <td>1.549</td>\n",
       "      <td>0.927</td>\n",
       "      <td>0.660</td>\n",
       "      <td>0.256</td>\n",
       "      <td>0.357</td>\n",
       "      <td>2018</td>\n",
       "    </tr>\n",
       "    <tr>\n",
       "      <th>5</th>\n",
       "      <td>6</td>\n",
       "      <td>Switzerland</td>\n",
       "      <td>7.480</td>\n",
       "      <td>1.452</td>\n",
       "      <td>1.526</td>\n",
       "      <td>1.052</td>\n",
       "      <td>0.572</td>\n",
       "      <td>0.263</td>\n",
       "      <td>0.343</td>\n",
       "      <td>2019</td>\n",
       "    </tr>\n",
       "  </tbody>\n",
       "</table>\n",
       "</div>"
      ],
      "text/plain": [
       "   Overall rank Country or region  Score  GDP per capita  Social support  \\\n",
       "4             5       Switzerland  7.487           1.420           1.549   \n",
       "5             6       Switzerland  7.480           1.452           1.526   \n",
       "\n",
       "   Healthy life expectancy  Freedom to make life choices  Generosity  \\\n",
       "4                    0.927                         0.660       0.256   \n",
       "5                    1.052                         0.572       0.263   \n",
       "\n",
       "   Perceptions of corruption  year  \n",
       "4                      0.357  2018  \n",
       "5                      0.343  2019  "
      ]
     },
     "execution_count": 62,
     "metadata": {},
     "output_type": "execute_result"
    }
   ],
   "source": [
    "wh.loc[ wh['Country or region'] == 'Switzerland' , : ]"
   ]
  },
  {
   "cell_type": "markdown",
   "id": "8a322dc9-ee13-403f-b6b0-e0be59e19cad",
   "metadata": {},
   "source": [
    "Como se puede observar para Switzerland en Score la diferencia seria 7.480 - 7.487\n",
    "\n",
    "Claramente en su solucion la columna año se debera de eliminar\n",
    "\n",
    "### resolucion ejercicio cuatro"
   ]
  },
  {
   "cell_type": "code",
   "execution_count": null,
   "id": "51892ff8-4f76-4d08-aaec-ad8960ebb1d2",
   "metadata": {},
   "outputs": [],
   "source": []
  }
 ],
 "metadata": {
  "kernelspec": {
   "display_name": "Python 3 (ipykernel)",
   "language": "python",
   "name": "python3"
  },
  "language_info": {
   "codemirror_mode": {
    "name": "ipython",
    "version": 3
   },
   "file_extension": ".py",
   "mimetype": "text/x-python",
   "name": "python",
   "nbconvert_exporter": "python",
   "pygments_lexer": "ipython3",
   "version": "3.9.7"
  },
  "toc": {
   "base_numbering": 1,
   "nav_menu": {},
   "number_sections": true,
   "sideBar": true,
   "skip_h1_title": false,
   "title_cell": "Table of Contents",
   "title_sidebar": "Contents",
   "toc_cell": false,
   "toc_position": {},
   "toc_section_display": true,
   "toc_window_display": false
  }
 },
 "nbformat": 4,
 "nbformat_minor": 5
}
